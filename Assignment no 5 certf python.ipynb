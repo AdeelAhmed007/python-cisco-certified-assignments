{
 "cells": [
  {
   "cell_type": "code",
   "execution_count": 5,
   "metadata": {},
   "outputs": [
    {
     "name": "stdout",
     "output_type": "stream",
     "text": [
      "enter the number :6\n"
     ]
    },
    {
     "data": {
      "text/plain": [
       "720"
      ]
     },
     "execution_count": 5,
     "metadata": {},
     "output_type": "execute_result"
    }
   ],
   "source": [
    "number  = int(input(\"enter the number :\"))\n",
    "def factorial(number):\n",
    "    if number == 0:\n",
    "        return 1\n",
    "    else:\n",
    "        return number * factorial(number -1 ) \n",
    "factorial(number)"
   ]
  },
  {
   "cell_type": "markdown",
   "metadata": {},
   "source": [
    "Question:2\n",
    "Write a Python function that accepts a string and calculate the number of upper\n",
    "case letters and lower case letters."
   ]
  },
  {
   "cell_type": "code",
   "execution_count": 15,
   "metadata": {},
   "outputs": [
    {
     "name": "stdout",
     "output_type": "stream",
     "text": [
      "Upper case character: 3\n",
      "Lower case character: 5\n"
     ]
    }
   ],
   "source": [
    "def stringtest(strings):\n",
    "    d={\"Upper_case\" : 0, \"Lower_case\" : 0}\n",
    "    for c in strings:\n",
    "        if c.isupper():\n",
    "            d[\"Upper_case\"]+=1\n",
    "        elif c.islower():\n",
    "            d[\"Lower_case\"]+=1\n",
    "        else:\n",
    "            \n",
    "            pass\n",
    "            \n",
    "    print(\"Upper case character:\",d[\"Upper_case\"])            \n",
    "    print(\"Lower case character:\",d[\"Lower_case\"])    \n",
    "stringtest(\"Is This Ok\")    \n",
    "    "
   ]
  },
  {
   "cell_type": "markdown",
   "metadata": {},
   "source": [
    "Question:3\n",
    "Write a Python function to print the even numbers from a given list."
   ]
  },
  {
   "cell_type": "code",
   "execution_count": 37,
   "metadata": {},
   "outputs": [
    {
     "data": {
      "text/plain": [
       "[78, 56, 78]"
      ]
     },
     "execution_count": 37,
     "metadata": {},
     "output_type": "execute_result"
    }
   ],
   "source": [
    "def even_func(list1):\n",
    "    even_num = []\n",
    "    for number in list1:\n",
    "        if number %2==0:\n",
    "            even_num.append(number)\n",
    "    return even_num        \n",
    "\n",
    "even_func([78,23,45,56,67,78])    "
   ]
  },
  {
   "cell_type": "markdown",
   "metadata": {},
   "source": [
    "Question:4\n",
    "Write a Python function that checks whether a passed string is palindrome or not.\n",
    "Note: A palindrome is a word, phrase, or sequence that reads the same\n",
    "backward as forward, e.g., madam"
   ]
  },
  {
   "cell_type": "code",
   "execution_count": 72,
   "metadata": {},
   "outputs": [
    {
     "data": {
      "text/plain": [
       "True"
      ]
     },
     "execution_count": 72,
     "metadata": {},
     "output_type": "execute_result"
    }
   ],
   "source": [
    "def palindrome(string):\n",
    "    if string == string[::-1]:\n",
    "        return True\n",
    "    else:\n",
    "        return False\n",
    "palindrome(\"rotator\")"
   ]
  },
  {
   "cell_type": "markdown",
   "metadata": {},
   "source": [
    "Question:5\n",
    "Write a Python function that takes a number as a parameter and check the\n",
    "number is prime or not."
   ]
  },
  {
   "cell_type": "code",
   "execution_count": 90,
   "metadata": {},
   "outputs": [
    {
     "name": "stdout",
     "output_type": "stream",
     "text": [
      "True prime number\n"
     ]
    }
   ],
   "source": [
    "def check_prime(n):\n",
    "    if (n==1):\n",
    "        return False\n",
    "    elif (n==2):\n",
    "        return True\n",
    "    else:\n",
    "        for i in range(2,n):\n",
    "            if (n%i==0):\n",
    "                return False\n",
    "            return True\n",
    "print(f\"{check_prime(5)} prime number\")        "
   ]
  },
  {
   "cell_type": "markdown",
   "metadata": {},
   "source": [
    "Question: 6\n",
    "Suppose a customer is shopping in a market and you need to print all the items\n",
    "which user bought from market.\n",
    "Write a function which accepts the multiple arguments of user shopping list and\n",
    "print all the items which user bought from market.\n",
    "(Hint: Arbitrary Argument concept can make this task ease)"
   ]
  },
  {
   "cell_type": "code",
   "execution_count": 97,
   "metadata": {},
   "outputs": [
    {
     "name": "stdout",
     "output_type": "stream",
     "text": [
      "cloths:shirts\n",
      "fruits:mangoes\n",
      "vegetables:Tomato\n",
      "sports:football\n",
      "electronicthings:microwave oven\n"
     ]
    }
   ],
   "source": [
    "def shopping(**cusitems): # ** double staric for the key value pair k liye \n",
    "    #print(name + \" \" + fname)# for loop lagega is baki sare parametr k liye\n",
    "    for key,value in cusitems.items():\n",
    "        print(key+\":\"+ value)\n",
    "shopping(cloths=\"shirts\",fruits=\"mangoes\",vegetables = \"Tomato\",sports = \"football\",electronicthings = \"microwave oven\")"
   ]
  },
  {
   "cell_type": "code",
   "execution_count": null,
   "metadata": {},
   "outputs": [],
   "source": []
  }
 ],
 "metadata": {
  "kernelspec": {
   "display_name": "Python 3",
   "language": "python",
   "name": "python3"
  },
  "language_info": {
   "codemirror_mode": {
    "name": "ipython",
    "version": 3
   },
   "file_extension": ".py",
   "mimetype": "text/x-python",
   "name": "python",
   "nbconvert_exporter": "python",
   "pygments_lexer": "ipython3",
   "version": "3.7.4"
  }
 },
 "nbformat": 4,
 "nbformat_minor": 2
}
