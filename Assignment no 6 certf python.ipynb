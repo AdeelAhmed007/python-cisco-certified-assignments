{
 "cells": [
  {
   "cell_type": "markdown",
   "metadata": {},
   "source": [
    "Question 1:\n",
    "Define Object Oriented Programming Language?"
   ]
  },
  {
   "cell_type": "markdown",
   "metadata": {},
   "source": [
    "Object-oriented programming (OOP) is a programming language model in which programs are organized around data, or objects, rather than functions and logic. An object can be defined as a data field that has unique attributes and behavior. Examples of an object can range from physical entities, such as a human being that is described by properties like name and address etc."
   ]
  },
  {
   "cell_type": "markdown",
   "metadata": {},
   "source": [
    "Question 2:\n",
    "List down the Benefits of OOP?"
   ]
  },
  {
   "cell_type": "raw",
   "metadata": {},
   "source": [
    "1.modular structure\n",
    "2.reused\n",
    "3.easier to maintain\n",
    "4.faster development\n",
    "5.easily adapted and modified by the programmer\n",
    "6.Better Productivity"
   ]
  },
  {
   "cell_type": "markdown",
   "metadata": {},
   "source": [
    "Question 3:\n",
    "Differentiate between function and method?"
   ]
  },
  {
   "cell_type": "markdown",
   "metadata": {},
   "source": [
    "# function"
   ]
  },
  {
   "cell_type": "markdown",
   "metadata": {},
   "source": [
    "\n",
    "Python function is a sequence of statements that execute in a certain order, given a name. They let us implement code reusability. When we talked about Python Functions, we talked about built-in and user-defined functions."
   ]
  },
  {
   "cell_type": "markdown",
   "metadata": {},
   "source": [
    "# Method"
   ]
  },
  {
   "cell_type": "markdown",
   "metadata": {},
   "source": [
    "Python method is like a function, except it is attached to an object. We call a method on an object, and it possibly makes changes to that object. A method, then, belongs to a class."
   ]
  },
  {
   "cell_type": "markdown",
   "metadata": {},
   "source": [
    "Question 4:\n",
    "Define the following terms:\n",
    "1. Class\n",
    "2. Object\n",
    "3. Attribute\n",
    "4. Behavior"
   ]
  },
  {
   "cell_type": "markdown",
   "metadata": {},
   "source": [
    "# CLASS"
   ]
  },
  {
   "cell_type": "markdown",
   "metadata": {},
   "source": [
    "In object-oriented programming, a class is a blueprint for creating objects (a particular data structure), providing initial values for state (member variables or attributes), and implementations of behavior (member functions or methods). The user-defined objects are created using the class keyword."
   ]
  },
  {
   "cell_type": "markdown",
   "metadata": {},
   "source": [
    "# OBJECT"
   ]
  },
  {
   "cell_type": "markdown",
   "metadata": {},
   "source": [
    "Almost everything in Python is an object, with its properties and methods.\n",
    "\n",
    "A Class is like an object constructor, or a \"blueprint\" for creating objects."
   ]
  },
  {
   "cell_type": "markdown",
   "metadata": {},
   "source": [
    "# ATTRIBUTE"
   ]
  },
  {
   "cell_type": "markdown",
   "metadata": {},
   "source": [
    "In Object-oriented programming(OOP), classes and objects have attributes. Attributes are data stored inside a class or instance and represent the state or quality of the class or instance. In short, attributes store information about the instance."
   ]
  },
  {
   "cell_type": "markdown",
   "metadata": {},
   "source": [
    "# Behaviour"
   ]
  },
  {
   "cell_type": "markdown",
   "metadata": {},
   "source": [
    "The behavior of an object is defined by its methods, which are the functions and subroutines defined within the object class. Without class methods, a class would simply be a structure.\n",
    "\n",
    "Methods determine what type of functionality a class has, how it modifies its data, and its overall behavior. Methods go beyond what properties do for an object, in that they aren't bound by a rigid implementation guideline and aren't tied to a member data item. They can be subroutines or functions and declared as public, protected, or private.\n",
    "\n"
   ]
  },
  {
   "cell_type": "markdown",
   "metadata": {},
   "source": [
    "Question 5:\n",
    "Write a code in python in which create a class named it Car which\n",
    "have 5 attributes such like (model, color and name etc.) and 3\n",
    "methods. And create 5 object instance from that class."
   ]
  },
  {
   "cell_type": "code",
   "execution_count": 7,
   "metadata": {},
   "outputs": [
    {
     "name": "stdout",
     "output_type": "stream",
     "text": [
      "Car is audi its  model is R8 and  its color is grey\n",
      "Car is  ferrari its  model is 488 pista and  its color is 2019\n",
      "Car is  Mustang its  model is Ford Mustang SVO and  its color is blue\n",
      "Car is Bugatti its  model is Bugatti Divo and  its color is sky blue\n",
      "Car is Dodge its  model is  Dodge Charger R/T. and  its color is white\n",
      "i already drived audiR8 car\n",
      "we apply break when we need to stop the Dodge car\n"
     ]
    }
   ],
   "source": [
    "class Car():\n",
    "    def __init__(self,name,model,color,year,price):\n",
    "        self.name  = name \n",
    "        self.model = model\n",
    "        self.color = color\n",
    "        self.year = year\n",
    "        self.price = price\n",
    "    def drive(self):\n",
    "        print(f\"i already drived {self.name}{self.model} car\")\n",
    "    def indicate(self):\n",
    "        print(f\"{self.model} is indicate when you want to turn or uturn\")\n",
    "    def car_break(self):\n",
    "        print(f\"we apply break when we need to stop the {self.name} car\")\n",
    "        \n",
    "first_one = Car(\"audi\",\"R8\",\"grey\",\"2019\",\"40 Millions\")\n",
    "print(f\"Car is {first_one.name} its  model is {first_one.model} and  its color is {first_one.color}\")\n",
    "\n",
    "second_one = Car(\"ferrari\",\"488 pista\",\"2019\",\"Red\",\"$100,000\")\n",
    "print(f\"Car is  {second_one.name} its  model is {second_one.model} and  its color is {second_one.color}\")\n",
    "\n",
    "third_one = Car(\"Mustang\",\"Ford Mustang SVO\",\"blue\",\"2019\",\"50 millions\")\n",
    "print(f\"Car is  {third_one.name} its  model is {third_one.model} and  its color is {third_one.color}\")\n",
    "\n",
    "fourth_one = Car(\"Bugatti\",\"Bugatti Divo\",\"sky blue\",\"2019\",\"60 millions\")\n",
    "print(f\"Car is {fourth_one.name} its  model is {fourth_one.model} and  its color is {fourth_one.color}\")\n",
    "\n",
    "fifth_one = Car(\"Dodge\",\" Dodge Charger R/T.\",\"white\",\"2019\",\"45 millions\")\n",
    "print(f\"Car is {fifth_one.name} its  model is {fifth_one.model} and  its color is {fifth_one.color}\")\n",
    "\n",
    "\n",
    "first_one.drive()\n",
    "fifth_one.car_break()"
   ]
  },
  {
   "cell_type": "code",
   "execution_count": null,
   "metadata": {},
   "outputs": [],
   "source": []
  },
  {
   "cell_type": "code",
   "execution_count": null,
   "metadata": {},
   "outputs": [],
   "source": []
  }
 ],
 "metadata": {
  "kernelspec": {
   "display_name": "Python 3",
   "language": "python",
   "name": "python3"
  },
  "language_info": {
   "codemirror_mode": {
    "name": "ipython",
    "version": 3
   },
   "file_extension": ".py",
   "mimetype": "text/x-python",
   "name": "python",
   "nbconvert_exporter": "python",
   "pygments_lexer": "ipython3",
   "version": "3.7.4"
  }
 },
 "nbformat": 4,
 "nbformat_minor": 2
}
