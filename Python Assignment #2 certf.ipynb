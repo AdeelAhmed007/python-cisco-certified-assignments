{
 "cells": [
  {
   "cell_type": "markdown",
   "metadata": {},
   "source": [
    "# Assignment # 2"
   ]
  },
  {
   "cell_type": "markdown",
   "metadata": {},
   "source": [
    "#                         \n",
    "1. Write a program which takes 5 inputs from user for different subject’s\n",
    "marks, total it and generate mark sheet using grades ?"
   ]
  },
  {
   "cell_type": "code",
   "execution_count": 4,
   "metadata": {},
   "outputs": [
    {
     "name": "stdout",
     "output_type": "stream",
     "text": [
      "enter the percentage %70\n",
      "enter the percentage %60\n",
      "enter the percentage %50\n",
      "enter the percentage %40\n",
      "enetr the percentage %80\n",
      "B grade\n"
     ]
    }
   ],
   "source": [
    "English = int(input(\"enter the percentage %\"))\n",
    "Math = int(input(\"enter the percentage %\"))\n",
    "chemistry = int(input(\"enter the percentage %\"))\n",
    "physics = int(input(\"enter the percentage %\"))\n",
    "pak_study = int(input(\"enetr the percentage %\"))\n",
    "\n",
    "avg = (English + Math + chemistry + physics + pak_study)/5\n",
    "\n",
    "if avg >=80 and avg<= 100:\n",
    "    print(\"A1 Grade\")\n",
    "elif avg >=70 and avg<80:\n",
    "    print(\"A grade\")\n",
    "elif avg >= 60 and avg<70:\n",
    "    print(\"B grade\")\n",
    "elif avg >= 50 and avg <60:\n",
    "    print(\"C grade\")\n",
    "elif avg >=40 and avg <50:\n",
    "    print(\"D grade\")\n",
    "elif avg >=30 and avg <40:\n",
    "    print(\"E grade\")\n",
    "else:\n",
    "    (\"F grade\")"
   ]
  },
  {
   "cell_type": "markdown",
   "metadata": {},
   "source": [
    " 2. Write a program which take input from user and identify that the given\n",
    "number is even or odd?"
   ]
  },
  {
   "cell_type": "code",
   "execution_count": 8,
   "metadata": {},
   "outputs": [
    {
     "name": "stdout",
     "output_type": "stream",
     "text": [
      "enter the number4\n",
      "even number \n"
     ]
    }
   ],
   "source": [
    "num = int(input(\"enter the number\"))\n",
    "if num %2==0:\n",
    "    print(\"even number \")\n",
    "else:\n",
    "    print(\"odd number\")"
   ]
  },
  {
   "cell_type": "markdown",
   "metadata": {},
   "source": [
    "3. Write a program which print the length of the list?"
   ]
  },
  {
   "cell_type": "code",
   "execution_count": 31,
   "metadata": {},
   "outputs": [
    {
     "data": {
      "text/plain": [
       "13"
      ]
     },
     "execution_count": 31,
     "metadata": {},
     "output_type": "execute_result"
    }
   ],
   "source": [
    "list1 = [1,2,3,4,5,6,7,8,9,0,90,12,34]\n",
    "len(list1)\n"
   ]
  },
  {
   "cell_type": "markdown",
   "metadata": {},
   "source": [
    "4. Write a Python program to sum all the numeric items in a list?"
   ]
  },
  {
   "cell_type": "code",
   "execution_count": 54,
   "metadata": {},
   "outputs": [
    {
     "name": "stdout",
     "output_type": "stream",
     "text": [
      "46\n"
     ]
    }
   ],
   "source": [
    "total = 0        # + 1 + 2 +3 + 4 + 5 +6 + 8+ 8+ 9\n",
    "list2 = [1,2,3,4,5,6,8,8,9]\n",
    "for i in range (0,len(list2)):\n",
    "                #0  # 9\n",
    "    total = total + list2[i]\n",
    "                     \n",
    "                \n",
    "         #total = total + list1[i] \n",
    "print(total)    "
   ]
  },
  {
   "cell_type": "markdown",
   "metadata": {},
   "source": [
    "5. Write a Python program to get the largest number from a numeric list."
   ]
  },
  {
   "cell_type": "code",
   "execution_count": 58,
   "metadata": {},
   "outputs": [
    {
     "name": "stdout",
     "output_type": "stream",
     "text": [
      "largest element in list is : 99\n"
     ]
    }
   ],
   "source": [
    "list3 = [44,55,66,77,88,99]\n",
    "print(\"largest element in list is :\", max(list3))"
   ]
  },
  {
   "cell_type": "code",
   "execution_count": 57,
   "metadata": {},
   "outputs": [
    {
     "name": "stdout",
     "output_type": "stream",
     "text": [
      "Largest element is: 99\n"
     ]
    }
   ],
   "source": [
    "print(\"Largest element is:\", list3[-1])"
   ]
  },
  {
   "cell_type": "markdown",
   "metadata": {},
   "source": [
    "6. Take a list, say for example this one:\n",
    "a = [1, 1, 2, 3, 5, 8, 13, 21, 34, 55, 89]\n",
    "and write a program that prints out all the elements of the list that are\n",
    "less than 5."
   ]
  },
  {
   "cell_type": "code",
   "execution_count": 65,
   "metadata": {},
   "outputs": [
    {
     "name": "stdout",
     "output_type": "stream",
     "text": [
      "1\n",
      "2\n",
      "3\n"
     ]
    }
   ],
   "source": [
    "list4 = [1,2,3,5,8,13,21,34,55,89]\n",
    "for i in list4:\n",
    "    if i<5:\n",
    "        print(i)\n"
   ]
  },
  {
   "cell_type": "code",
   "execution_count": null,
   "metadata": {},
   "outputs": [],
   "source": []
  }
 ],
 "metadata": {
  "kernelspec": {
   "display_name": "Python 3",
   "language": "python",
   "name": "python3"
  },
  "language_info": {
   "codemirror_mode": {
    "name": "ipython",
    "version": 3
   },
   "file_extension": ".py",
   "mimetype": "text/x-python",
   "name": "python",
   "nbconvert_exporter": "python",
   "pygments_lexer": "ipython3",
   "version": "3.7.3"
  }
 },
 "nbformat": 4,
 "nbformat_minor": 2
}
