{
 "cells": [
  {
   "cell_type": "markdown",
   "metadata": {},
   "source": [
    "Make a calculator using Python with addition , subtraction , multiplication ,\n",
    "division and power."
   ]
  },
  {
   "cell_type": "code",
   "execution_count": 18,
   "metadata": {},
   "outputs": [
    {
     "name": "stdout",
     "output_type": "stream",
     "text": [
      "enter first number8\n",
      "enter second number2\n",
      "enter operator**\n",
      "answer= 64\n"
     ]
    }
   ],
   "source": [
    "num1 = int(input(\"enter first number\"))\n",
    "num2 = int(input(\"enter second number\"))\n",
    "operator = input(\"enter operator\")\n",
    "\n",
    "if operator == \"+\":\n",
    "    num = num1 + num2\n",
    "    print(\"answer=\",num)\n",
    "elif operator == \"-\":\n",
    "    num = num1 - num2\n",
    "    print(\"answer=\",num)\n",
    "elif operator == \"*\":\n",
    "    num = num1 * num2\n",
    "    print(\"answer=\",num)\n",
    "elif operator == \"/\":\n",
    "    num = num1 / num2\n",
    "    print(\"answer=\",num)\n",
    "elif operator == \"**\":\n",
    "    num = num1 ** num2\n",
    "    print(\"answer=\",num)\n",
    "else:\n",
    "    print(\"no operator like this in this program \")\n",
    "   \n"
   ]
  },
  {
   "cell_type": "markdown",
   "metadata": {},
   "source": [
    "Write a program to check if there is any numeric value in list using for loop"
   ]
  },
  {
   "cell_type": "code",
   "execution_count": 73,
   "metadata": {},
   "outputs": [
    {
     "name": "stdout",
     "output_type": "stream",
     "text": [
      "good\n"
     ]
    }
   ],
   "source": [
    "list1 = [0.1,\"a\",\"b\",\"c\",\"d\",\"f\",\"g\"]\n",
    "numeric_val = 0.1\n",
    "for i in list1:\n",
    "    if  i == numeric_val:\n",
    "        print(\"good\")\n",
    "        break\n",
    "    else:\n",
    "        print(\"notgood\")\n",
    "        "
   ]
  },
  {
   "cell_type": "markdown",
   "metadata": {},
   "source": [
    "Write a Python script to add a key to a dictionary"
   ]
  },
  {
   "cell_type": "code",
   "execution_count": 74,
   "metadata": {},
   "outputs": [
    {
     "name": "stdout",
     "output_type": "stream",
     "text": [
      "Current Dict is:  {'First_name': 'Adeel', 'Last_name': 'Ahmed'}\n",
      "Updated Dict is:  {'First_name': 'Adeel', 'Last_name': 'Ahmed', 'age': 20}\n"
     ]
    }
   ],
   "source": [
    "mydict = {'First_name':'Adeel', 'Last_name':'Ahmed'} \n",
    "print(\"Current Dict is: \", mydict) \n",
    "   \n",
    "mydict['age'] = 20\n",
    "print(\"Updated Dict is: \", mydict) "
   ]
  },
  {
   "cell_type": "code",
   "execution_count": 75,
   "metadata": {},
   "outputs": [
    {
     "name": "stdout",
     "output_type": "stream",
     "text": [
      "Currrent Dict is: {'First_name': 'Adeel', 'last_name': 'Ahmed'}\n",
      "Updated Dict is : {'First_name': 'Adeel', 'last_name': 'Ahmed', 'Age': 20}\n"
     ]
    }
   ],
   "source": [
    "d = {\"First_name\" : \"Adeel\", \"last_name\":\"Ahmed\"}\n",
    "print(\"Currrent Dict is:\", d)\n",
    "d.update({\"Age\":20})\n",
    "print(\"Updated Dict is :\",d)"
   ]
  },
  {
   "cell_type": "markdown",
   "metadata": {},
   "source": [
    "Write a Python program to sum all the numeric items in a dictionary"
   ]
  },
  {
   "cell_type": "code",
   "execution_count": 86,
   "metadata": {},
   "outputs": [
    {
     "data": {
      "text/plain": [
       "62"
      ]
     },
     "execution_count": 86,
     "metadata": {},
     "output_type": "execute_result"
    }
   ],
   "source": [
    "d = {\"key1\":1,\"key2\": 14 ,\"key3\": 47}\n",
    "sum(d.values())"
   ]
  },
  {
   "cell_type": "markdown",
   "metadata": {},
   "source": [
    "Write a program to identify duplicate values from list"
   ]
  },
  {
   "cell_type": "code",
   "execution_count": 18,
   "metadata": {},
   "outputs": [
    {
     "name": "stdout",
     "output_type": "stream",
     "text": [
      "[1, 2, 3, 4, 5, 9]\n"
     ]
    }
   ],
   "source": [
    "list1 = [1,2,1,3,1,4,1,4,2,5,9]\n",
    "duplicated  = []\n",
    "for ele in list1:\n",
    "    if ele not in duplicated :\n",
    "        duplicated.append(ele)\n",
    "print (duplicated)"
   ]
  },
  {
   "cell_type": "markdown",
   "metadata": {},
   "source": [
    "Write a Python script to check if a given key already exists in a dictionary"
   ]
  },
  {
   "cell_type": "code",
   "execution_count": 54,
   "metadata": {},
   "outputs": [
    {
     "name": "stdout",
     "output_type": "stream",
     "text": [
      "key is present in the list \n",
      "key is not present in the list\n"
     ]
    }
   ],
   "source": [
    "my_dict = {\"First_name\": 'Adeel', 'last_name': 'Ahmed', 'Age': 20}\n",
    "def check_key(x):\n",
    "    if x in my_dict:\n",
    "        print(\"key is present in the list \")\n",
    "    else:\n",
    "        print(\"key is not present in the list\")\n",
    "check_key(\"First_name\") \n",
    "check_key(\"Qualification\")"
   ]
  },
  {
   "cell_type": "code",
   "execution_count": null,
   "metadata": {},
   "outputs": [],
   "source": []
  }
 ],
 "metadata": {
  "kernelspec": {
   "display_name": "Python 3",
   "language": "python",
   "name": "python3"
  },
  "language_info": {
   "codemirror_mode": {
    "name": "ipython",
    "version": 3
   },
   "file_extension": ".py",
   "mimetype": "text/x-python",
   "name": "python",
   "nbconvert_exporter": "python",
   "pygments_lexer": "ipython3",
   "version": "3.7.3"
  }
 },
 "nbformat": 4,
 "nbformat_minor": 2
}
